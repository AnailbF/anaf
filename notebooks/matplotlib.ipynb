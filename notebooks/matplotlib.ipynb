pip install lasio
import pandas as pd
import matplotlib.pyplot as plt
import lasio
import numpy as np
poco4=lasio.read('/content/Penobscot_B_41_LASOut_W4 (2).las')
poco4
poco4=poco4.df()
poco4['DEPTH'] = poco4.index
poco4
poco4.keys()
import matplotlib.pyplot as plt
fig, ax = plt.subplots(1, 7, figsize=(10,15))
y = poco4.RHOB
y1 = y
ax[0].plot(poco4.GRD, poco4.DEPTH, color = 'green')
ax[0].set_title('Raio Gama')
ax[0].invert_yaxis()
ax[1].plot(poco4.ILD, poco4.DEPTH, color = 'pink')
ax[1].set_title('Resistividade')
ax[1].invert_yaxis()
ax[2].plot(poco4.NPHISS, poco4.DEPTH, color = 'blue')
ax[2].set_title('NPHILS x RHOB')
ax[2].invert_yaxis()
ax[2] = ax[2].twiny()
ax[2].plot(y1, poco4.DEPTH, color ='yellow')
ax[2].invert_yaxis()
ax[3].plot(poco4.SP, poco4.DEPTH, color = 'yellow')
ax[3].set_title('P Espontaneo')
ax[3].invert_yaxis()
ax[4].plot(poco4.RHOB, poco4.DEPTH, color = 'yellow')
ax[4].set_title('Densidade')
ax[4].invert_yaxis()
ax[5].plot(poco4.CALD, poco4.DEPTH, color = 'Black')
ax[5].set_title('Caliper')
ax[5].invert_yaxis()
ax[6].plot(poco4.DT, poco4.DEPTH, color = 'red')
ax[6].set_title('Sonico')
ax[6].invert_yaxis()
poco4.isna().sum()
def slice_dataframe(well, range_top, range_bottom):
well_slc = well[(well[well['DEPTH']==range_top].index).to_list()[
0]:(well[well['DEPTH']==range_bottom].index).to_list()[0]].reset_in
dex(drop=True)
return well_slc
poco2=poco2.reset_index(drop=False)
def despike(curve, window_size, tolerance):
import numpy as np
smoothed = []
despiked = []
for i in range(0, len(curve) - window_size + 1):
mean = np.average(curve[i:i+window_size])
smoothed.append(mean)
for j in range(len(curve)-window_size+2, len(curve)+1):
mean = sum(curve[-window_size:])/window_size
smoothed.append(mean)
for k in range(0, len(curve)):
if abs(smoothed[k]-curve[k])>=tolerance:
despiked.append(smoothed[k])
else:
despiked.append(curve[k])
return despiked
poco4_cortado = slice_dataframe(poco4, 3100, 10200)
poco4_cortado.isna().sum()
fig, ax = plt.subplots(1, 7, figsize=(10,15))
y = poco4.RHOB
y1 = y
ax[0].plot(poco4_cortado.GRD, poco4_cortado.DEPTH, color = 'green')
ax[0].set_title('Raio Gama')
ax[0].invert_yaxis()
ax[1].plot(poco4_cortado.ILD, poco4_cortado.DEPTH, color = 'pink')
ax[1].set_title('Resistividade')
ax[1].invert_yaxis()
ax[2].plot(poco4_cortado.NPHISS, poco4_cortado.DEPTH, color = 'blue
')
ax[2].set_title('NPHILS x RHOB')
ax[2].invert_yaxis()
ax[2] = ax[2].twiny()
ax[2].plot(y1, poco4.DEPTH, color ='yellow')
ax[2].invert_yaxis()
ax[3].plot(poco4_cortado.SP, poco4_cortado.DEPTH, color = 'yellow')
ax[3].set_title('P Espontaneo')
ax[3].invert_yaxis()
ax[4].plot(poco4_cortado.RHOB, poco4_cortado.DEPTH, color = 'yellow
')
ax[4].set_title('Densidade')
ax[4].invert_yaxis()
ax[5].plot(poco4_cortado.CALD, poco4_cortado.DEPTH, color = 'Black'
)
ax[5].set_title('Caliper')
ax[5].invert_yaxis()
ax[6].plot(poco4_cortado.DT, poco4_cortado.DEPTH, color = 'red')
ax[6].set_title('Sonico')
ax[6].invert_yaxis()
gr_despiked=despike(poco4_cortado['GRD'], 30, 30)
fig, ax = plt.subplots(1, 2, figsize=(10,15))
ax[0].plot(poco4_cortado. GRD, poco4_cortado.DEPTH, color = 'green'
)
ax[0].plot(gr_despiked, poco4_cortado.DEPTH, color = 'red')
ax[0].set_title('Raio Gama')
ax[0].invert_yaxis()
max(gr_despiked)
min(gr_despiked)
igr = (gr_despiked - min(gr_despiked))/(max(gr_despiked)-
min(gr_despiked))
vsh = 0.33*(2**(2*igr)-1)
vsh
poco4_cortado['IGR'] = igr
poco4_cortado['VSH'] = vsh
fig, ax = plt.subplots(1, 9, figsize=(10,15))
y = poco4.RHOB
y1 = y
ax[0].plot(poco4_cortado.GRD, poco4_cortado.DEPTH, color = 'green')
ax[0].set_title('Raio Gama')
ax[0].invert_yaxis()
ax[1].plot(poco4_cortado.ILD, poco4_cortado.DEPTH, color = 'pink')
ax[1].set_title('Resistividade')
ax[1].invert_yaxis()
ax[2].plot(poco4_cortado.NPHISS, poco4_cortado.DEPTH, color = 'blue
')
ax[2].set_title('NPHILS x RHOB')
ax[2].invert_yaxis()
ax[2] = ax[2].twiny()
ax[2].plot(y1, poco4.DEPTH, color ='yellow')
ax[2].invert_yaxis()
ax[3].plot(poco4_cortado.SP, poco4_cortado.DEPTH, color = 'yellow')
ax[3].set_title('P Espontaneo')
ax[3].invert_yaxis()
ax[4].plot(poco4_cortado.RHOB, poco4_cortado.DEPTH, color = 'yellow
')
ax[4].set_title('Densidade')
ax[4].invert_yaxis()
ax[5].plot(poco4_cortado.CALD, poco4_cortado.DEPTH, color = 'Black'
)
ax[5].set_title('Caliper')
ax[5].invert_yaxis()
ax[6].plot(poco4_cortado.DT, poco4_cortado.DEPTH, color = 'red')
ax[6].set_title('Sonico')
ax[6].invert_yaxis()
ax[7].plot(poco4_cortado.IGR, poco4_cortado.DEPTH, color ='gray')
ax[7].set_title('IGR')
ax[7].invert_yaxis()
ax[8].plot(poco4_cortado.VSH, poco4_cortado.DEPTH, color ='purple')
ax[8].set_title('VSH')
ax[8].invert_yaxis()
    
